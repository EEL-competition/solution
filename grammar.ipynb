{
 "cells": [
  {
   "cell_type": "code",
   "execution_count": 19,
   "id": "174fa768",
   "metadata": {},
   "outputs": [],
   "source": [
    "import pandas as pd\n",
    "import language_tool_python"
   ]
  },
  {
   "cell_type": "code",
   "execution_count": 20,
   "id": "22a6b770",
   "metadata": {},
   "outputs": [],
   "source": [
    "data = pd.read_csv('./train.csv')"
   ]
  },
  {
   "cell_type": "code",
   "execution_count": 21,
   "id": "0fa68629",
   "metadata": {},
   "outputs": [],
   "source": [
    "from sklearn.model_selection import train_test_split\n",
    "x_train, x_test,y_train,y_test = train_test_split(data, data, test_size = 0.3,random_state=50)\n"
   ]
  },
  {
   "cell_type": "code",
   "execution_count": 22,
   "id": "b7a1b3db",
   "metadata": {},
   "outputs": [],
   "source": [
    "def grammercheck(df):\n",
    "    tool = language_tool_python.LanguageTool('en-US')\n",
    "    counts = {'counts':[],'score':[]}\n",
    "    for i in df.index:\n",
    "        matches = tool.check(df['full_text'][i])\n",
    "        counts['counts'].append(len(matches))\n",
    "        counts['score'].append(str(df['grammar'][i]))\n",
    "    return counts"
   ]
  },
  {
   "cell_type": "code",
   "execution_count": 23,
   "id": "b5171625",
   "metadata": {},
   "outputs": [],
   "source": [
    "\n",
    "def getAvg(counts):\n",
    "    sums = {\"1.0\":0,\n",
    "    \"1.5\":0,\n",
    "    \"2.0\":0,\n",
    "    \"2.5\":0,\n",
    "    \"3.0\":0,\n",
    "    \"3.5\":0,\n",
    "    \"4.0\":0,\n",
    "    \"4.5\":0,\n",
    "    \"5.0\":0}\n",
    "    n = {\"1.0\":0,\n",
    "    \"1.5\":0,\n",
    "    \"2.0\":0,\n",
    "    \"2.5\":0,\n",
    "    \"3.0\":0,\n",
    "    \"3.5\":0,\n",
    "    \"4.0\":0,\n",
    "    \"4.5\":0,\n",
    "    \"5.0\":0}\n",
    "    avg = {}\n",
    "    for i in len(counts['counts']):\n",
    "        sum[counts['score'][i]] += counts['counts'][i]\n",
    "        n[counts['score'][i]] += 1\n",
    "        \n",
    "    for sum in sums.keys:\n",
    "        avg[sum] = (sums[sum])/len(n[sum])\n",
    "    return avg"
   ]
  },
  {
   "cell_type": "code",
   "execution_count": 24,
   "id": "1b4fb528",
   "metadata": {},
   "outputs": [],
   "source": [
    "counts = grammercheck(x_train)\n"
   ]
  },
  {
   "cell_type": "code",
   "execution_count": null,
   "id": "f06d24d5",
   "metadata": {},
   "outputs": [
    {
     "data": {
      "text/plain": [
       "2737"
      ]
     },
     "execution_count": 18,
     "metadata": {},
     "output_type": "execute_result"
    }
   ],
   "source": [
    "len(counts['counts'])"
   ]
  },
  {
   "cell_type": "code",
   "execution_count": null,
   "id": "83e1fc80",
   "metadata": {},
   "outputs": [
    {
     "name": "stdout",
     "output_type": "stream",
     "text": [
      "38\n",
      "2097\n",
      "2519\n",
      "387\n",
      "27\n",
      "1076\n",
      "1236\n",
      "2222\n",
      "1047\n",
      "1663\n",
      "872\n",
      "1790\n",
      "882\n",
      "448\n",
      "2262\n",
      "3072\n"
     ]
    },
    {
     "ename": "IndexError",
     "evalue": "list index out of range",
     "output_type": "error",
     "traceback": [
      "\u001b[0;31m---------------------------------------------------------------------------\u001b[0m",
      "\u001b[0;31mIndexError\u001b[0m                                Traceback (most recent call last)",
      "\u001b[1;32m/Users/ryangarland/Documents/GitHub/solution/grammar.ipynb Cell 9\u001b[0m in \u001b[0;36m<cell line: 1>\u001b[0;34m()\u001b[0m\n\u001b[0;32m----> <a href='vscode-notebook-cell:/Users/ryangarland/Documents/GitHub/solution/grammar.ipynb#X11sZmlsZQ%3D%3D?line=0'>1</a>\u001b[0m avg \u001b[39m=\u001b[39m getAvg(ind,counts)\n",
      "\u001b[1;32m/Users/ryangarland/Documents/GitHub/solution/grammar.ipynb Cell 9\u001b[0m in \u001b[0;36mgetAvg\u001b[0;34m(ind, counts)\u001b[0m\n\u001b[1;32m      <a href='vscode-notebook-cell:/Users/ryangarland/Documents/GitHub/solution/grammar.ipynb#X11sZmlsZQ%3D%3D?line=5'>6</a>\u001b[0m \u001b[39mfor\u001b[39;00m j \u001b[39min\u001b[39;00m ind[i]:\n\u001b[1;32m      <a href='vscode-notebook-cell:/Users/ryangarland/Documents/GitHub/solution/grammar.ipynb#X11sZmlsZQ%3D%3D?line=6'>7</a>\u001b[0m     \u001b[39mprint\u001b[39m(j)\n\u001b[0;32m----> <a href='vscode-notebook-cell:/Users/ryangarland/Documents/GitHub/solution/grammar.ipynb#X11sZmlsZQ%3D%3D?line=7'>8</a>\u001b[0m     curr \u001b[39m=\u001b[39m curr \u001b[39m+\u001b[39m counts[\u001b[39m'\u001b[39;49m\u001b[39mcounts\u001b[39;49m\u001b[39m'\u001b[39;49m][j]\n\u001b[1;32m      <a href='vscode-notebook-cell:/Users/ryangarland/Documents/GitHub/solution/grammar.ipynb#X11sZmlsZQ%3D%3D?line=8'>9</a>\u001b[0m     n \u001b[39m=\u001b[39m n\u001b[39m+\u001b[39m\u001b[39m1\u001b[39m\n\u001b[1;32m     <a href='vscode-notebook-cell:/Users/ryangarland/Documents/GitHub/solution/grammar.ipynb#X11sZmlsZQ%3D%3D?line=9'>10</a>\u001b[0m avg[i] \u001b[39m=\u001b[39m (curr)\u001b[39m/\u001b[39mn\n",
      "\u001b[0;31mIndexError\u001b[0m: list index out of range"
     ]
    }
   ],
   "source": [
    "\n",
    "avg = getAvg(counts)"
   ]
  },
  {
   "cell_type": "code",
   "execution_count": null,
   "id": "c0061a11",
   "metadata": {},
   "outputs": [],
   "source": [
    "def grammarScoring(avg, test):\n",
    "    gScores = {}\n",
    "    testCount = grammercheck(test)\n",
    "    ind = 0\n",
    "    for val in testCount['counts']:\n",
    "        if val <= avg[5.0]:\n",
    "            gScores[ind] = 5.0\n",
    "        elif val > avg[5.0] and  val <= avg[4.5]:\n",
    "            gScores[ind] = 4.5\n",
    "        elif val > avg[4.5] and  val <= avg[4.0]:\n",
    "            gScores[ind] = 4.0\n",
    "        elif val > avg[4.0] and  val <= avg[3.5]:\n",
    "            gScores[ind] = 3.5\n",
    "        elif val > avg[3.5] and  val <= avg[3.0]:\n",
    "            gScores[ind] = 3.0\n",
    "        elif val > avg[3.0] and  val <= avg[2.5]:\n",
    "            gScores[ind] =2.5\n",
    "        elif val > avg[2.5] and  val <= avg[2.0]:\n",
    "            gScores[ind] =2.0\n",
    "        elif val > avg[2.0] and  val <= avg[1.5]:\n",
    "            gScores[ind] =1.5\n",
    "        else:\n",
    "            gScores[ind] = 1.0\n",
    "        ind = ind+1\n",
    "\n",
    "    return gScores"
   ]
  },
  {
   "cell_type": "code",
   "execution_count": null,
   "id": "66f41acc",
   "metadata": {},
   "outputs": [],
   "source": [
    "train_gscores = grammarScoring(avg, x_train)\n",
    "test_gscores = grammarScoring(avg, x_test)"
   ]
  },
  {
   "cell_type": "code",
   "execution_count": null,
   "id": "35ecb892",
   "metadata": {},
   "outputs": [],
   "source": [
    "train_gscores"
   ]
  }
 ],
 "metadata": {
  "kernelspec": {
   "display_name": "Python 3.9.12 ('base')",
   "language": "python",
   "name": "python3"
  },
  "language_info": {
   "codemirror_mode": {
    "name": "ipython",
    "version": 3
   },
   "file_extension": ".py",
   "mimetype": "text/x-python",
   "name": "python",
   "nbconvert_exporter": "python",
   "pygments_lexer": "ipython3",
   "version": "3.9.12"
  },
  "vscode": {
   "interpreter": {
    "hash": "578750e02b17427b3fe40220db2a4b290b2430efb4cff6dff0901767966f4e19"
   }
  }
 },
 "nbformat": 4,
 "nbformat_minor": 5
}
