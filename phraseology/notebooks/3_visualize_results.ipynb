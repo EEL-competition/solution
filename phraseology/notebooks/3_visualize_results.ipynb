{
 "cells": [
  {
   "cell_type": "markdown",
   "metadata": {},
   "source": [
    "# Requirements"
   ]
  },
  {
   "cell_type": "code",
   "execution_count": 7,
   "metadata": {},
   "outputs": [],
   "source": [
    "import numpy as np\n",
    "import pandas as pd \n",
    "\n",
    "import matplotlib.pyplot as plt\n",
    "import seaborn as sns\n",
    "\n",
    "sns.set_theme(\n",
    "    style=\"whitegrid\", \n",
    "    font_scale = 2, \n",
    "    rc={'figure.figsize':(18,9)}\n",
    ")"
   ]
  },
  {
   "cell_type": "markdown",
   "metadata": {},
   "source": [
    "# Visualize"
   ]
  },
  {
   "cell_type": "code",
   "execution_count": 8,
   "metadata": {},
   "outputs": [],
   "source": [
    "data = pd.read_csv(\"../logs/221105.175952-experiment-mlp-all/runs.csv\")\n",
    "\n",
    "sns.boxplot(x=\"Dataset\", y=\"test_score\",\n",
    "            data=data)\n",
    "# sns.despine(offset=10, trim=True)\n",
    "plt.legend(bbox_to_anchor=(1.05, 1), loc='upper left', borderaxespad=0)\n",
    "\n",
    "plt.savefig(\n",
    "    \"./images/all_auc.png\",\n",
    "    format=\"png\",\n",
    "    dpi=300,\n",
    "    bbox_inches='tight',\n",
    ")\n",
    "plt.savefig(\n",
    "    \"./images/all_auc.svg\",\n",
    "    bbox_inches='tight',\n",
    ")"
   ]
  },
  {
   "cell_type": "code",
   "execution_count": null,
   "metadata": {},
   "outputs": [],
   "source": []
  },
  {
   "cell_type": "code",
   "execution_count": 8,
   "metadata": {},
   "outputs": [],
   "source": [
    "# clear grammar errors - takes time\n",
    "tool = language_tool_python.LanguageTool('en-US')\n",
    "\n",
    "clear_texts = texts.copy()\n",
    "for i in range(texts.shape[0]):\n",
    "    clear_texts[i] = tool.correct(texts[i])"
   ]
  },
  {
   "cell_type": "code",
   "execution_count": 40,
   "metadata": {},
   "outputs": [
    {
     "name": "stderr",
     "output_type": "stream",
     "text": [
      "/Users/pavelpopov/.pyenv/versions/3.7.12/lib/python3.7/site-packages/ipykernel_launcher.py:8: VisibleDeprecationWarning: Creating an ndarray from ragged nested sequences (which is a list-or-tuple of lists-or-tuples-or ndarrays with different lengths or shapes) is deprecated. If you meant to do this, you must specify 'dtype=object' when creating the ndarray.\n",
      "  \n"
     ]
    }
   ],
   "source": [
    "# remove '.' and ',' symbols, cast to lowercase, split into words\n",
    "\n",
    "data = []\n",
    "for i in range(clear_texts.shape[0]):\n",
    "    # data.extend(np.array([clear_texts[i].replace('.', '').replace(',', '').lower().split()]))\n",
    "    data += [clear_texts[i].replace('.', '').replace(',', '').lower().split()]\n",
    "\n",
    "data = np.array(data) # data is numpy.ndarray of lists"
   ]
  },
  {
   "cell_type": "code",
   "execution_count": 34,
   "metadata": {},
   "outputs": [],
   "source": [
    "# save clean data\n",
    "np.savez(\n",
    "    \"../preprocessed_data/phraseology.npz\",\n",
    "    texts=texts,\n",
    "    clear_texts=clear_texts,\n",
    "    data=data,\n",
    "    scores=scores,\n",
    ")"
   ]
  },
  {
   "cell_type": "code",
   "execution_count": 36,
   "metadata": {},
   "outputs": [],
   "source": [
    "# load data\n",
    "np_data = np.load(\"../preprocessed_data/phraseology.npz\", allow_pickle=True)\n",
    "data = np_data['data']\n",
    "scores = np_data['scores']"
   ]
  }
 ],
 "metadata": {
  "kernelspec": {
   "display_name": "Python 3.7.12 64-bit ('3.7.12')",
   "language": "python",
   "name": "python3"
  },
  "language_info": {
   "codemirror_mode": {
    "name": "ipython",
    "version": 3
   },
   "file_extension": ".py",
   "mimetype": "text/x-python",
   "name": "python",
   "nbconvert_exporter": "python",
   "pygments_lexer": "ipython3",
   "version": "3.7.12"
  },
  "orig_nbformat": 4,
  "vscode": {
   "interpreter": {
    "hash": "1b99d877adb0b7ab3fa56a43902a76f28d27732ee5cf08679707ced7dcdfd859"
   }
  }
 },
 "nbformat": 4,
 "nbformat_minor": 2
}
